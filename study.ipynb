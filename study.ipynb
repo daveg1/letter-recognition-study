{
 "cells": [
  {
   "cell_type": "markdown",
   "id": "96c0a715",
   "metadata": {},
   "source": [
    "# Dataset and Research"
   ]
  },
  {
   "cell_type": "markdown",
   "id": "e7b61eff",
   "metadata": {},
   "source": [
    "## Dataset\n",
    "The dataset titled \"Letter Recognition Data Set\" contains 20,000 instances of distorted uppercase English letters from 20 different fonts. The dataset has 17 features, consisting of 1 categorical string value and 16 numerical values, which describe the pixel image of each letter instance. Such features include: width & height of the box, vert. and horiz. position of the box, number of 'on' pixels (like in a binary image), etc.\n",
    "\n",
    "I chose this dataset because it is related to types of machine learning problems that are becoming increasingly more prevalent nowadays. Examples of problems include identifying symbols in engineering blueprints or identifing vehicles in traffic camera footage.\n",
    "\n",
    "The purpose of this study is to use this data to build a predictive model capable of discerning letters from a given set of features.\n",
    "\n",
    "### Source\n",
    "Obtained from the UCI repository at https://archive.ics.uci.edu/ml/datasets/Letter+Recognition (accessed 22th Oct, 2021)."
   ]
  },
  {
   "cell_type": "markdown",
   "id": "7e18c371",
   "metadata": {},
   "source": [
    "## Literature Review\n",
    "To gain insight into an actual machine learning problem, I selected a peer-reviewed paper to discuss. This paper is relevant because it tackles a similar classification problem of letter identification. I had originally intended to review the [**original paper**](https://link.springer.com/article/10.1007/BF00114162) the dataset was constructed for; however, the techniques present within are long out of date since being published in 1991.\n",
    "\n",
    "### Review\n",
    "B. B. Yousif et al in “Toward an ONKM-AVLPR” present a more effective methodology of license plate recognition. The authors describe each step of their new method and compare their results with those of older methods in order to prove the method’s effectiveness. The main motivation for developing a new method was to overcome a challenge faced by previous methods: image degradations. Degradations included shadows on the license plate or faded or otherwise unclear lettering and tended to affect the overall performance (accuracy) of the results. The data used in this study comprise photographs of Egyptian and Croatian license plates taken under different lighting conditions.\n",
    "\n",
    "The method firstly preprocesses the images in order to locate the license plate and improve overall performance. Preprocessing operations include resizing, greyscaling and contrasting. Following this, a neutrosophic set algorithm is used to reduce indeterminacy in the data and is optimised with a genetic algorithm to improve accuracy. Next, a k-means algorithm is used to cluster the data. Then, connected-components labeling analysis takes place to label the characters. Finally, statistical cross correlation is used to match the characters against templates in a database. The authors provide flowcharts to give a high-level overview of each algorithm. They also use tables of images to illustrate how an image evolves through each step of the method.\n",
    "\n",
    "The authors provide tables of performance metrics to show how different factors affect accuracy. One important factor was optimising the neutrosophic set as it improved the results tremendously when applied. Afterwards, the authors do a comparative study, highlighting the differences between their method’s output to those of older methods. For example, older methods produced grainy images and some failed completely to locate characters. The comparison demonstrates the new method is most effective.\n",
    "\n",
    "The paper is quite technical, as it predominantly speaks in jargon. The use of flowcharts and tables aid understanding and are nicely presented tables. They clearly evidenced their method to be more performant than older methods of recognition. Overall, it is well made and very accessible.\n",
    "\n",
    "### Citation\n",
    "B. B. Yousif, M. M. Ata, N. Fawzy and M. Obaya, \"Toward an Optimized Neutrosophic k-Means With Genetic Algorithm for Automatic Vehicle License Plate Recognition (ONKM-AVLPR),\" in IEEE Access, vol. 8, pp. 49285-49312, 2020, doi: 10.1109/ACCESS.2020.2979185.\n",
    "\n",
    "Obtained from https://ieeexplore.ieee.org/document/9027882 (accessed 23rd Oct, 2021)."
   ]
  },
  {
   "cell_type": "markdown",
   "id": "432836b4",
   "metadata": {},
   "source": [
    "## Data Exploration\n",
    "It is important to explore our data to gain a better insight into it, which helps us later in the preprocessing stage."
   ]
  },
  {
   "cell_type": "markdown",
   "id": "f6622156",
   "metadata": {},
   "source": [
    "### Load Libraries and Data"
   ]
  },
  {
   "cell_type": "code",
   "execution_count": 1,
   "id": "56fc1569",
   "metadata": {},
   "outputs": [],
   "source": [
    "# Import libraries\n",
    "import matplotlib.pyplot as plt\n",
    "import numpy as np\n",
    "import pandas as pd\n",
    "import seaborn as sns\n",
    "from sklearn.ensemble import RandomForestClassifier\n",
    "from sklearn.metrics import accuracy_score, classification_report\n",
    "from sklearn.model_selection import cross_val_score, RepeatedStratifiedKFold\n",
    "from sklearn.model_selection import train_test_split as tts\n",
    "from sklearn.preprocessing import LabelEncoder\n",
    "\n",
    "# Load data\n",
    "df = pd.read_csv('data/letter-recognition.csv')"
   ]
  },
  {
   "cell_type": "code",
   "execution_count": 2,
   "id": "1ae1ea8c",
   "metadata": {
    "scrolled": true
   },
   "outputs": [
    {
     "data": {
      "text/html": [
       "<div>\n",
       "<style scoped>\n",
       "    .dataframe tbody tr th:only-of-type {\n",
       "        vertical-align: middle;\n",
       "    }\n",
       "\n",
       "    .dataframe tbody tr th {\n",
       "        vertical-align: top;\n",
       "    }\n",
       "\n",
       "    .dataframe thead th {\n",
       "        text-align: right;\n",
       "    }\n",
       "</style>\n",
       "<table border=\"1\" class=\"dataframe\">\n",
       "  <thead>\n",
       "    <tr style=\"text-align: right;\">\n",
       "      <th></th>\n",
       "      <th>lettr</th>\n",
       "      <th>x-box</th>\n",
       "      <th>y-box</th>\n",
       "      <th>width</th>\n",
       "      <th>high</th>\n",
       "      <th>onpix</th>\n",
       "      <th>x-bar</th>\n",
       "      <th>y-bar</th>\n",
       "      <th>x2bar</th>\n",
       "      <th>y2bar</th>\n",
       "      <th>xybar</th>\n",
       "      <th>x2ybr</th>\n",
       "      <th>xy2br</th>\n",
       "      <th>x-ege</th>\n",
       "      <th>xegvy</th>\n",
       "      <th>y-ege</th>\n",
       "      <th>yegvx</th>\n",
       "    </tr>\n",
       "  </thead>\n",
       "  <tbody>\n",
       "    <tr>\n",
       "      <th>0</th>\n",
       "      <td>T</td>\n",
       "      <td>2</td>\n",
       "      <td>8</td>\n",
       "      <td>3</td>\n",
       "      <td>5</td>\n",
       "      <td>1</td>\n",
       "      <td>8</td>\n",
       "      <td>13</td>\n",
       "      <td>0</td>\n",
       "      <td>6</td>\n",
       "      <td>6</td>\n",
       "      <td>10</td>\n",
       "      <td>8</td>\n",
       "      <td>0</td>\n",
       "      <td>8</td>\n",
       "      <td>0</td>\n",
       "      <td>8</td>\n",
       "    </tr>\n",
       "    <tr>\n",
       "      <th>1</th>\n",
       "      <td>I</td>\n",
       "      <td>5</td>\n",
       "      <td>12</td>\n",
       "      <td>3</td>\n",
       "      <td>7</td>\n",
       "      <td>2</td>\n",
       "      <td>10</td>\n",
       "      <td>5</td>\n",
       "      <td>5</td>\n",
       "      <td>4</td>\n",
       "      <td>13</td>\n",
       "      <td>3</td>\n",
       "      <td>9</td>\n",
       "      <td>2</td>\n",
       "      <td>8</td>\n",
       "      <td>4</td>\n",
       "      <td>10</td>\n",
       "    </tr>\n",
       "    <tr>\n",
       "      <th>2</th>\n",
       "      <td>D</td>\n",
       "      <td>4</td>\n",
       "      <td>11</td>\n",
       "      <td>6</td>\n",
       "      <td>8</td>\n",
       "      <td>6</td>\n",
       "      <td>10</td>\n",
       "      <td>6</td>\n",
       "      <td>2</td>\n",
       "      <td>6</td>\n",
       "      <td>10</td>\n",
       "      <td>3</td>\n",
       "      <td>7</td>\n",
       "      <td>3</td>\n",
       "      <td>7</td>\n",
       "      <td>3</td>\n",
       "      <td>9</td>\n",
       "    </tr>\n",
       "    <tr>\n",
       "      <th>3</th>\n",
       "      <td>N</td>\n",
       "      <td>7</td>\n",
       "      <td>11</td>\n",
       "      <td>6</td>\n",
       "      <td>6</td>\n",
       "      <td>3</td>\n",
       "      <td>5</td>\n",
       "      <td>9</td>\n",
       "      <td>4</td>\n",
       "      <td>6</td>\n",
       "      <td>4</td>\n",
       "      <td>4</td>\n",
       "      <td>10</td>\n",
       "      <td>6</td>\n",
       "      <td>10</td>\n",
       "      <td>2</td>\n",
       "      <td>8</td>\n",
       "    </tr>\n",
       "  </tbody>\n",
       "</table>\n",
       "</div>"
      ],
      "text/plain": [
       "  lettr  x-box  y-box  width  high  onpix  x-bar  y-bar  x2bar  y2bar  xybar  \\\n",
       "0     T      2      8      3     5      1      8     13      0      6      6   \n",
       "1     I      5     12      3     7      2     10      5      5      4     13   \n",
       "2     D      4     11      6     8      6     10      6      2      6     10   \n",
       "3     N      7     11      6     6      3      5      9      4      6      4   \n",
       "\n",
       "   x2ybr  xy2br  x-ege  xegvy  y-ege  yegvx  \n",
       "0     10      8      0      8      0      8  \n",
       "1      3      9      2      8      4     10  \n",
       "2      3      7      3      7      3      9  \n",
       "3      4     10      6     10      2      8  "
      ]
     },
     "execution_count": 2,
     "metadata": {},
     "output_type": "execute_result"
    }
   ],
   "source": [
    "# Print some rows\n",
    "df.head(4)"
   ]
  },
  {
   "cell_type": "markdown",
   "id": "02bc4309",
   "metadata": {},
   "source": [
    "### Data Size and Feature Types\n",
    "We can get a basic overview of the dataset with the following:"
   ]
  },
  {
   "cell_type": "code",
   "execution_count": 3,
   "id": "07135764",
   "metadata": {},
   "outputs": [
    {
     "name": "stdout",
     "output_type": "stream",
     "text": [
      "Rows: 20000\tColumns: 17\n"
     ]
    },
    {
     "data": {
      "text/plain": [
       "lettr    object\n",
       "x-box     int64\n",
       "y-box     int64\n",
       "width     int64\n",
       "high      int64\n",
       "onpix     int64\n",
       "x-bar     int64\n",
       "y-bar     int64\n",
       "x2bar     int64\n",
       "y2bar     int64\n",
       "xybar     int64\n",
       "x2ybr     int64\n",
       "xy2br     int64\n",
       "x-ege     int64\n",
       "xegvy     int64\n",
       "y-ege     int64\n",
       "yegvx     int64\n",
       "dtype: object"
      ]
     },
     "execution_count": 3,
     "metadata": {},
     "output_type": "execute_result"
    }
   ],
   "source": [
    "# Print dimensions\n",
    "print(f'Rows: {df.shape[0]}\\tColumns: {df.shape[1]}')\n",
    "\n",
    "# Show data types\n",
    "df.dtypes"
   ]
  },
  {
   "cell_type": "markdown",
   "id": "31bc0fca",
   "metadata": {},
   "source": [
    "Listed above are the name and type of each feature. The features consist of 1 categorical value and 16 numerical values."
   ]
  },
  {
   "cell_type": "markdown",
   "id": "6e95da4e",
   "metadata": {},
   "source": [
    "### Class Distribution\n",
    "**lettr** is a categorical attribute that states which of the 26 letters an instance is describing. By getting the class distribution, we can assess the balance of this feature:"
   ]
  },
  {
   "cell_type": "code",
   "execution_count": 4,
   "id": "46815821",
   "metadata": {
    "scrolled": false
   },
   "outputs": [
    {
     "name": "stdout",
     "output_type": "stream",
     "text": [
      "There are **26** different letters.\n"
     ]
    },
    {
     "data": {
      "text/html": [
       "<div>\n",
       "<style scoped>\n",
       "    .dataframe tbody tr th:only-of-type {\n",
       "        vertical-align: middle;\n",
       "    }\n",
       "\n",
       "    .dataframe tbody tr th {\n",
       "        vertical-align: top;\n",
       "    }\n",
       "\n",
       "    .dataframe thead th {\n",
       "        text-align: right;\n",
       "    }\n",
       "</style>\n",
       "<table border=\"1\" class=\"dataframe\">\n",
       "  <thead>\n",
       "    <tr style=\"text-align: right;\">\n",
       "      <th></th>\n",
       "      <th>Count</th>\n",
       "      <th>Proportion</th>\n",
       "    </tr>\n",
       "  </thead>\n",
       "  <tbody>\n",
       "    <tr>\n",
       "      <th>A</th>\n",
       "      <td>789</td>\n",
       "      <td>3.94</td>\n",
       "    </tr>\n",
       "    <tr>\n",
       "      <th>B</th>\n",
       "      <td>766</td>\n",
       "      <td>3.83</td>\n",
       "    </tr>\n",
       "    <tr>\n",
       "      <th>C</th>\n",
       "      <td>736</td>\n",
       "      <td>3.68</td>\n",
       "    </tr>\n",
       "    <tr>\n",
       "      <th>D</th>\n",
       "      <td>805</td>\n",
       "      <td>4.03</td>\n",
       "    </tr>\n",
       "    <tr>\n",
       "      <th>E</th>\n",
       "      <td>768</td>\n",
       "      <td>3.84</td>\n",
       "    </tr>\n",
       "    <tr>\n",
       "      <th>F</th>\n",
       "      <td>775</td>\n",
       "      <td>3.88</td>\n",
       "    </tr>\n",
       "    <tr>\n",
       "      <th>G</th>\n",
       "      <td>773</td>\n",
       "      <td>3.86</td>\n",
       "    </tr>\n",
       "    <tr>\n",
       "      <th>H</th>\n",
       "      <td>734</td>\n",
       "      <td>3.67</td>\n",
       "    </tr>\n",
       "    <tr>\n",
       "      <th>I</th>\n",
       "      <td>755</td>\n",
       "      <td>3.77</td>\n",
       "    </tr>\n",
       "    <tr>\n",
       "      <th>J</th>\n",
       "      <td>747</td>\n",
       "      <td>3.74</td>\n",
       "    </tr>\n",
       "    <tr>\n",
       "      <th>K</th>\n",
       "      <td>739</td>\n",
       "      <td>3.69</td>\n",
       "    </tr>\n",
       "    <tr>\n",
       "      <th>L</th>\n",
       "      <td>761</td>\n",
       "      <td>3.81</td>\n",
       "    </tr>\n",
       "    <tr>\n",
       "      <th>M</th>\n",
       "      <td>792</td>\n",
       "      <td>3.96</td>\n",
       "    </tr>\n",
       "    <tr>\n",
       "      <th>N</th>\n",
       "      <td>783</td>\n",
       "      <td>3.91</td>\n",
       "    </tr>\n",
       "    <tr>\n",
       "      <th>O</th>\n",
       "      <td>753</td>\n",
       "      <td>3.77</td>\n",
       "    </tr>\n",
       "    <tr>\n",
       "      <th>P</th>\n",
       "      <td>803</td>\n",
       "      <td>4.01</td>\n",
       "    </tr>\n",
       "    <tr>\n",
       "      <th>Q</th>\n",
       "      <td>783</td>\n",
       "      <td>3.91</td>\n",
       "    </tr>\n",
       "    <tr>\n",
       "      <th>R</th>\n",
       "      <td>758</td>\n",
       "      <td>3.79</td>\n",
       "    </tr>\n",
       "    <tr>\n",
       "      <th>S</th>\n",
       "      <td>748</td>\n",
       "      <td>3.74</td>\n",
       "    </tr>\n",
       "    <tr>\n",
       "      <th>T</th>\n",
       "      <td>796</td>\n",
       "      <td>3.98</td>\n",
       "    </tr>\n",
       "    <tr>\n",
       "      <th>U</th>\n",
       "      <td>813</td>\n",
       "      <td>4.06</td>\n",
       "    </tr>\n",
       "    <tr>\n",
       "      <th>V</th>\n",
       "      <td>764</td>\n",
       "      <td>3.82</td>\n",
       "    </tr>\n",
       "    <tr>\n",
       "      <th>W</th>\n",
       "      <td>752</td>\n",
       "      <td>3.76</td>\n",
       "    </tr>\n",
       "    <tr>\n",
       "      <th>X</th>\n",
       "      <td>787</td>\n",
       "      <td>3.94</td>\n",
       "    </tr>\n",
       "    <tr>\n",
       "      <th>Y</th>\n",
       "      <td>786</td>\n",
       "      <td>3.93</td>\n",
       "    </tr>\n",
       "    <tr>\n",
       "      <th>Z</th>\n",
       "      <td>734</td>\n",
       "      <td>3.67</td>\n",
       "    </tr>\n",
       "  </tbody>\n",
       "</table>\n",
       "</div>"
      ],
      "text/plain": [
       "   Count  Proportion\n",
       "A    789        3.94\n",
       "B    766        3.83\n",
       "C    736        3.68\n",
       "D    805        4.03\n",
       "E    768        3.84\n",
       "F    775        3.88\n",
       "G    773        3.86\n",
       "H    734        3.67\n",
       "I    755        3.77\n",
       "J    747        3.74\n",
       "K    739        3.69\n",
       "L    761        3.81\n",
       "M    792        3.96\n",
       "N    783        3.91\n",
       "O    753        3.77\n",
       "P    803        4.01\n",
       "Q    783        3.91\n",
       "R    758        3.79\n",
       "S    748        3.74\n",
       "T    796        3.98\n",
       "U    813        4.06\n",
       "V    764        3.82\n",
       "W    752        3.76\n",
       "X    787        3.94\n",
       "Y    786        3.93\n",
       "Z    734        3.67"
      ]
     },
     "execution_count": 4,
     "metadata": {},
     "output_type": "execute_result"
    }
   ],
   "source": [
    "letters = df['lettr']\n",
    "letters_dist = pd.DataFrame({ 'Count': letters.value_counts() }).sort_index()\n",
    "proportions = []\n",
    "\n",
    "for l in letters_dist['Count']:\n",
    "    p = round(l / letters.shape[0] * 100, 2)\n",
    "    proportions.append(p)\n",
    "\n",
    "# Count unique values\n",
    "unique = len(letters.unique())\n",
    "print(f'There are **{unique}** different letters.')\n",
    "\n",
    "letters_dist['Proportion'] = proportions\n",
    "letters_dist.head(unique)"
   ]
  },
  {
   "cell_type": "code",
   "execution_count": 5,
   "id": "a157b6ae",
   "metadata": {},
   "outputs": [
    {
     "name": "stdout",
     "output_type": "stream",
     "text": [
      "Average proportion: 3.8458%\n",
      "Actual proportion: 3.8462%\n"
     ]
    }
   ],
   "source": [
    "print(f'Average proportion: {round(sum(proportions) / 26, 4)}%')\n",
    "print(f'Actual proportion: {round(1/26*100, 4)}%')"
   ]
  },
  {
   "cell_type": "markdown",
   "id": "bd4f1807",
   "metadata": {},
   "source": [
    "The above shows the count and proportions for each letter. Also, average and actual proportions have been calculated to check how balanced the dataset is. As we can see, the calculated average is about the same as the actual, suggesting the dataset is quite balanced. To further visualise this, we can use a barplot:"
   ]
  },
  {
   "cell_type": "code",
   "execution_count": 6,
   "id": "a3bd0eea",
   "metadata": {},
   "outputs": [
    {
     "data": {
      "image/png": "[encoded data removed]",
      "text/plain": [
       "<Figure size 720x216 with 1 Axes>"
      ]
     },
     "metadata": {},
     "output_type": "display_data"
    }
   ],
   "source": [
    "sns.set_style(style='whitegrid')\n",
    "plt.figure(figsize=(10,3))\n",
    "\n",
    "plt.hist(letters.sort_values(0), bins=51)\n",
    "plt.title('Distribution of Letters')\n",
    "plt.xlabel('Letters')\n",
    "plt.ylabel('Instances')\n",
    "\n",
    "plt.show()"
   ]
  },
  {
   "cell_type": "markdown",
   "id": "6bef469c",
   "metadata": {},
   "source": [
    "Again, we can see the distribution is quite balanced. Having an imbalance means a model trained on that data would become lopsided and likely make mistakes in its predictions, due to the underrepresentation of some letters. Therefore, having a balanced dataset means a model would learn each letter fairly equally, improving its performance."
   ]
  },
  {
   "cell_type": "markdown",
   "id": "14b1f4f1",
   "metadata": {},
   "source": [
    "### Missing Values\n",
    "We can check for gaps in our data with the following:"
   ]
  },
  {
   "cell_type": "code",
   "execution_count": 7,
   "id": "681d7cbb",
   "metadata": {},
   "outputs": [
    {
     "data": {
      "text/plain": [
       "lettr    0\n",
       "x-box    0\n",
       "y-box    0\n",
       "width    0\n",
       "high     0\n",
       "onpix    0\n",
       "x-bar    0\n",
       "y-bar    0\n",
       "x2bar    0\n",
       "y2bar    0\n",
       "xybar    0\n",
       "x2ybr    0\n",
       "xy2br    0\n",
       "x-ege    0\n",
       "xegvy    0\n",
       "y-ege    0\n",
       "yegvx    0\n",
       "dtype: int64"
      ]
     },
     "execution_count": 7,
     "metadata": {},
     "output_type": "execute_result"
    }
   ],
   "source": [
    "df.isnull().sum()"
   ]
  },
  {
   "cell_type": "markdown",
   "id": "e0850543",
   "metadata": {},
   "source": [
    "The output shows zero for each feature, meaning there are no missing values."
   ]
  },
  {
   "cell_type": "markdown",
   "id": "51bdc6ef",
   "metadata": {},
   "source": [
    "### Outliers and Correlations\n",
    "It is possible that some data is drastically different. We can get a statistical overview of the data with the following:"
   ]
  },
  {
   "cell_type": "code",
   "execution_count": 8,
   "id": "1b08bc48",
   "metadata": {
    "scrolled": true
   },
   "outputs": [
    {
     "data": {
      "text/html": [
       "<div>\n",
       "<style scoped>\n",
       "    .dataframe tbody tr th:only-of-type {\n",
       "        vertical-align: middle;\n",
       "    }\n",
       "\n",
       "    .dataframe tbody tr th {\n",
       "        vertical-align: top;\n",
       "    }\n",
       "\n",
       "    .dataframe thead th {\n",
       "        text-align: right;\n",
       "    }\n",
       "</style>\n",
       "<table border=\"1\" class=\"dataframe\">\n",
       "  <thead>\n",
       "    <tr style=\"text-align: right;\">\n",
       "      <th></th>\n",
       "      <th>x-box</th>\n",
       "      <th>y-box</th>\n",
       "      <th>width</th>\n",
       "      <th>high</th>\n",
       "      <th>onpix</th>\n",
       "      <th>x-bar</th>\n",
       "      <th>y-bar</th>\n",
       "      <th>x2bar</th>\n",
       "      <th>y2bar</th>\n",
       "      <th>xybar</th>\n",
       "      <th>x2ybr</th>\n",
       "      <th>xy2br</th>\n",
       "      <th>x-ege</th>\n",
       "      <th>xegvy</th>\n",
       "      <th>y-ege</th>\n",
       "      <th>yegvx</th>\n",
       "    </tr>\n",
       "  </thead>\n",
       "  <tbody>\n",
       "    <tr>\n",
       "      <th>count</th>\n",
       "      <td>20000.000000</td>\n",
       "      <td>20000.000000</td>\n",
       "      <td>20000.000000</td>\n",
       "      <td>20000.00000</td>\n",
       "      <td>20000.000000</td>\n",
       "      <td>20000.000000</td>\n",
       "      <td>20000.000000</td>\n",
       "      <td>20000.000000</td>\n",
       "      <td>20000.000000</td>\n",
       "      <td>20000.000000</td>\n",
       "      <td>20000.00000</td>\n",
       "      <td>20000.000000</td>\n",
       "      <td>20000.000000</td>\n",
       "      <td>20000.000000</td>\n",
       "      <td>20000.000000</td>\n",
       "      <td>20000.00000</td>\n",
       "    </tr>\n",
       "    <tr>\n",
       "      <th>mean</th>\n",
       "      <td>4.023550</td>\n",
       "      <td>7.035500</td>\n",
       "      <td>5.121850</td>\n",
       "      <td>5.37245</td>\n",
       "      <td>3.505850</td>\n",
       "      <td>6.897600</td>\n",
       "      <td>7.500450</td>\n",
       "      <td>4.628600</td>\n",
       "      <td>5.178650</td>\n",
       "      <td>8.282050</td>\n",
       "      <td>6.45400</td>\n",
       "      <td>7.929000</td>\n",
       "      <td>3.046100</td>\n",
       "      <td>8.338850</td>\n",
       "      <td>3.691750</td>\n",
       "      <td>7.80120</td>\n",
       "    </tr>\n",
       "    <tr>\n",
       "      <th>std</th>\n",
       "      <td>1.913212</td>\n",
       "      <td>3.304555</td>\n",
       "      <td>2.014573</td>\n",
       "      <td>2.26139</td>\n",
       "      <td>2.190458</td>\n",
       "      <td>2.026035</td>\n",
       "      <td>2.325354</td>\n",
       "      <td>2.699968</td>\n",
       "      <td>2.380823</td>\n",
       "      <td>2.488475</td>\n",
       "      <td>2.63107</td>\n",
       "      <td>2.080619</td>\n",
       "      <td>2.332541</td>\n",
       "      <td>1.546722</td>\n",
       "      <td>2.567073</td>\n",
       "      <td>1.61747</td>\n",
       "    </tr>\n",
       "    <tr>\n",
       "      <th>min</th>\n",
       "      <td>0.000000</td>\n",
       "      <td>0.000000</td>\n",
       "      <td>0.000000</td>\n",
       "      <td>0.00000</td>\n",
       "      <td>0.000000</td>\n",
       "      <td>0.000000</td>\n",
       "      <td>0.000000</td>\n",
       "      <td>0.000000</td>\n",
       "      <td>0.000000</td>\n",
       "      <td>0.000000</td>\n",
       "      <td>0.00000</td>\n",
       "      <td>0.000000</td>\n",
       "      <td>0.000000</td>\n",
       "      <td>0.000000</td>\n",
       "      <td>0.000000</td>\n",
       "      <td>0.00000</td>\n",
       "    </tr>\n",
       "    <tr>\n",
       "      <th>25%</th>\n",
       "      <td>3.000000</td>\n",
       "      <td>5.000000</td>\n",
       "      <td>4.000000</td>\n",
       "      <td>4.00000</td>\n",
       "      <td>2.000000</td>\n",
       "      <td>6.000000</td>\n",
       "      <td>6.000000</td>\n",
       "      <td>3.000000</td>\n",
       "      <td>4.000000</td>\n",
       "      <td>7.000000</td>\n",
       "      <td>5.00000</td>\n",
       "      <td>7.000000</td>\n",
       "      <td>1.000000</td>\n",
       "      <td>8.000000</td>\n",
       "      <td>2.000000</td>\n",
       "      <td>7.00000</td>\n",
       "    </tr>\n",
       "    <tr>\n",
       "      <th>50%</th>\n",
       "      <td>4.000000</td>\n",
       "      <td>7.000000</td>\n",
       "      <td>5.000000</td>\n",
       "      <td>6.00000</td>\n",
       "      <td>3.000000</td>\n",
       "      <td>7.000000</td>\n",
       "      <td>7.000000</td>\n",
       "      <td>4.000000</td>\n",
       "      <td>5.000000</td>\n",
       "      <td>8.000000</td>\n",
       "      <td>6.00000</td>\n",
       "      <td>8.000000</td>\n",
       "      <td>3.000000</td>\n",
       "      <td>8.000000</td>\n",
       "      <td>3.000000</td>\n",
       "      <td>8.00000</td>\n",
       "    </tr>\n",
       "    <tr>\n",
       "      <th>75%</th>\n",
       "      <td>5.000000</td>\n",
       "      <td>9.000000</td>\n",
       "      <td>6.000000</td>\n",
       "      <td>7.00000</td>\n",
       "      <td>5.000000</td>\n",
       "      <td>8.000000</td>\n",
       "      <td>9.000000</td>\n",
       "      <td>6.000000</td>\n",
       "      <td>7.000000</td>\n",
       "      <td>10.000000</td>\n",
       "      <td>8.00000</td>\n",
       "      <td>9.000000</td>\n",
       "      <td>4.000000</td>\n",
       "      <td>9.000000</td>\n",
       "      <td>5.000000</td>\n",
       "      <td>9.00000</td>\n",
       "    </tr>\n",
       "    <tr>\n",
       "      <th>max</th>\n",
       "      <td>15.000000</td>\n",
       "      <td>15.000000</td>\n",
       "      <td>15.000000</td>\n",
       "      <td>15.00000</td>\n",
       "      <td>15.000000</td>\n",
       "      <td>15.000000</td>\n",
       "      <td>15.000000</td>\n",
       "      <td>15.000000</td>\n",
       "      <td>15.000000</td>\n",
       "      <td>15.000000</td>\n",
       "      <td>15.00000</td>\n",
       "      <td>15.000000</td>\n",
       "      <td>15.000000</td>\n",
       "      <td>15.000000</td>\n",
       "      <td>15.000000</td>\n",
       "      <td>15.00000</td>\n",
       "    </tr>\n",
       "  </tbody>\n",
       "</table>\n",
       "</div>"
      ],
      "text/plain": [
       "              x-box         y-box         width         high         onpix  \\\n",
       "count  20000.000000  20000.000000  20000.000000  20000.00000  20000.000000   \n",
       "mean       4.023550      7.035500      5.121850      5.37245      3.505850   \n",
       "std        1.913212      3.304555      2.014573      2.26139      2.190458   \n",
       "min        0.000000      0.000000      0.000000      0.00000      0.000000   \n",
       "25%        3.000000      5.000000      4.000000      4.00000      2.000000   \n",
       "50%        4.000000      7.000000      5.000000      6.00000      3.000000   \n",
       "75%        5.000000      9.000000      6.000000      7.00000      5.000000   \n",
       "max       15.000000     15.000000     15.000000     15.00000     15.000000   \n",
       "\n",
       "              x-bar         y-bar         x2bar         y2bar         xybar  \\\n",
       "count  20000.000000  20000.000000  20000.000000  20000.000000  20000.000000   \n",
       "mean       6.897600      7.500450      4.628600      5.178650      8.282050   \n",
       "std        2.026035      2.325354      2.699968      2.380823      2.488475   \n",
       "min        0.000000      0.000000      0.000000      0.000000      0.000000   \n",
       "25%        6.000000      6.000000      3.000000      4.000000      7.000000   \n",
       "50%        7.000000      7.000000      4.000000      5.000000      8.000000   \n",
       "75%        8.000000      9.000000      6.000000      7.000000     10.000000   \n",
       "max       15.000000     15.000000     15.000000     15.000000     15.000000   \n",
       "\n",
       "             x2ybr         xy2br         x-ege         xegvy         y-ege  \\\n",
       "count  20000.00000  20000.000000  20000.000000  20000.000000  20000.000000   \n",
       "mean       6.45400      7.929000      3.046100      8.338850      3.691750   \n",
       "std        2.63107      2.080619      2.332541      1.546722      2.567073   \n",
       "min        0.00000      0.000000      0.000000      0.000000      0.000000   \n",
       "25%        5.00000      7.000000      1.000000      8.000000      2.000000   \n",
       "50%        6.00000      8.000000      3.000000      8.000000      3.000000   \n",
       "75%        8.00000      9.000000      4.000000      9.000000      5.000000   \n",
       "max       15.00000     15.000000     15.000000     15.000000     15.000000   \n",
       "\n",
       "             yegvx  \n",
       "count  20000.00000  \n",
       "mean       7.80120  \n",
       "std        1.61747  \n",
       "min        0.00000  \n",
       "25%        7.00000  \n",
       "50%        8.00000  \n",
       "75%        9.00000  \n",
       "max       15.00000  "
      ]
     },
     "execution_count": 8,
     "metadata": {},
     "output_type": "execute_result"
    }
   ],
   "source": [
    "df.describe()"
   ]
  },
  {
   "cell_type": "markdown",
   "id": "6e54c316",
   "metadata": {},
   "source": [
    "The above shows a consistently low standard deviation, suggesting the data is clustered fairly closely around the mean. Also note that the min and max values are 0 and 15 across all columns.\n",
    "\n",
    "We can display some of these features as graphs:"
   ]
  },
  {
   "cell_type": "code",
   "execution_count": 9,
   "id": "9a037203",
   "metadata": {
    "scrolled": false
   },
   "outputs": [
    {
     "data": {
      "image/png": "[encoded data removed]",
      "text/plain": [
       "<Figure size 1080x720 with 4 Axes>"
      ]
     },
     "metadata": {},
     "output_type": "display_data"
    }
   ],
   "source": [
    "sns.set_style(style='darkgrid')\n",
    "\n",
    "# Select specific columns\n",
    "columns = ['width', 'high', 'x2bar', 'y2bar']\n",
    "selection = df[columns]\n",
    "\n",
    "selection.hist(bins=31,figsize=(15,10))\n",
    "plt.show()"
   ]
  },
  {
   "cell_type": "markdown",
   "id": "2a40a304",
   "metadata": {},
   "source": [
    "Plotted above are the width, height, x2bar and y2bar. The x2bar is defined as the mean x variance and the y2bar as the mean y variance. When we pair the x2bar with the width and the y2bar with the height (labeled high), we can see two very similar pairs of graphs, suggesting a correlation between them.\n",
    "\n",
    "The x2bar suggests that wider letters have more variance and vice versa. Similarly, y2bar suggests taller letters have more variance.\n",
    "\n",
    "We can calculate the correlations between these columns:"
   ]
  },
  {
   "cell_type": "code",
   "execution_count": 10,
   "id": "f70a7a67",
   "metadata": {
    "scrolled": false
   },
   "outputs": [
    {
     "data": {
      "text/html": [
       "<div>\n",
       "<style scoped>\n",
       "    .dataframe tbody tr th:only-of-type {\n",
       "        vertical-align: middle;\n",
       "    }\n",
       "\n",
       "    .dataframe tbody tr th {\n",
       "        vertical-align: top;\n",
       "    }\n",
       "\n",
       "    .dataframe thead th {\n",
       "        text-align: right;\n",
       "    }\n",
       "</style>\n",
       "<table border=\"1\" class=\"dataframe\">\n",
       "  <thead>\n",
       "    <tr style=\"text-align: right;\">\n",
       "      <th></th>\n",
       "      <th>width</th>\n",
       "      <th>high</th>\n",
       "      <th>x2bar</th>\n",
       "      <th>y2bar</th>\n",
       "    </tr>\n",
       "  </thead>\n",
       "  <tbody>\n",
       "    <tr>\n",
       "      <th>width</th>\n",
       "      <td>1.000000</td>\n",
       "      <td>0.660215</td>\n",
       "      <td>-0.098611</td>\n",
       "      <td>0.057074</td>\n",
       "    </tr>\n",
       "    <tr>\n",
       "      <th>high</th>\n",
       "      <td>0.660215</td>\n",
       "      <td>1.000000</td>\n",
       "      <td>0.082383</td>\n",
       "      <td>0.059032</td>\n",
       "    </tr>\n",
       "    <tr>\n",
       "      <th>x2bar</th>\n",
       "      <td>-0.098611</td>\n",
       "      <td>0.082383</td>\n",
       "      <td>1.000000</td>\n",
       "      <td>-0.188431</td>\n",
       "    </tr>\n",
       "    <tr>\n",
       "      <th>y2bar</th>\n",
       "      <td>0.057074</td>\n",
       "      <td>0.059032</td>\n",
       "      <td>-0.188431</td>\n",
       "      <td>1.000000</td>\n",
       "    </tr>\n",
       "  </tbody>\n",
       "</table>\n",
       "</div>"
      ],
      "text/plain": [
       "          width      high     x2bar     y2bar\n",
       "width  1.000000  0.660215 -0.098611  0.057074\n",
       "high   0.660215  1.000000  0.082383  0.059032\n",
       "x2bar -0.098611  0.082383  1.000000 -0.188431\n",
       "y2bar  0.057074  0.059032 -0.188431  1.000000"
      ]
     },
     "execution_count": 10,
     "metadata": {},
     "output_type": "execute_result"
    }
   ],
   "source": [
    "selection.corr()[columns]"
   ]
  },
  {
   "cell_type": "markdown",
   "id": "335bc7f8",
   "metadata": {},
   "source": [
    "## Data Preprocessing\n",
    "In this stage, we will prepare our dataset for model training. As we learned from exploring the data, the dataset is fairly balanced and there is no missing data, meaning it is not necessary to take any extra steps to fix them.\n",
    "\n",
    "Were there an imbalance, some form of data sampling would be required. Likewise, were there any missing data, we would need to use a technique like filling the gaps with the mean value."
   ]
  },
  {
   "cell_type": "markdown",
   "id": "13c74469",
   "metadata": {},
   "source": [
    "### Split Features and Encode Labels\n",
    "We firstly need to separate the input features from the target variable (or label). It is also good practice to encode our categorical labels into integer values."
   ]
  },
  {
   "cell_type": "code",
   "execution_count": 11,
   "id": "dc6eee16",
   "metadata": {},
   "outputs": [
    {
     "name": "stdout",
     "output_type": "stream",
     "text": [
      "Before: ['T' 'I' 'D' 'N' 'G' 'S' 'B' 'A']\n",
      "After:  [19  8  3 13  6 18  1  0]\n"
     ]
    }
   ],
   "source": [
    "# Store input features\n",
    "# Using numpy array is better (also to match label format)\n",
    "X = np.array(df.drop('lettr', axis=1))\n",
    "\n",
    "# Store & Encode Labels\n",
    "Y = df['lettr']\n",
    "Y = LabelEncoder().fit(Y).transform(Y) # returns numpy array\n",
    "\n",
    "# Show encoded values:\n",
    "print(f'Before: {np.array(df[\"lettr\"][:8])}')\n",
    "print(f'After:  {Y[:8]}')"
   ]
  },
  {
   "cell_type": "markdown",
   "id": "af679d65",
   "metadata": {},
   "source": [
    "### Test and Train Data\n",
    "Next, we need to divide our dataset into training and test sets. `train_size` has been set to use 80% of the total instances (16,000 rows) for training.\n",
    "\n",
    "We also set the random state to control the randomness."
   ]
  },
  {
   "cell_type": "code",
   "execution_count": 12,
   "id": "30f9e83a",
   "metadata": {},
   "outputs": [],
   "source": [
    "# Random state\n",
    "r_state = 20\n",
    "\n",
    "# Get our test and train data\n",
    "X_train, X_test, Y_train, Y_test = tts(X, Y, train_size=.8, random_state=r_state)"
   ]
  },
  {
   "cell_type": "markdown",
   "id": "28142e94",
   "metadata": {},
   "source": [
    "### Normalisation\n",
    "In order to reduce noise, we can use min-max normalisation to scale the numerical values down to a range of 0 to 1. As noted earlier, the input features have common min and max values (0 and 15), so normalisation is simple:"
   ]
  },
  {
   "cell_type": "code",
   "execution_count": 13,
   "id": "802b6813",
   "metadata": {},
   "outputs": [],
   "source": [
    "X_train = X_train / 15.0\n",
    "X_test = X_test / 15.0"
   ]
  },
  {
   "cell_type": "markdown",
   "id": "936efc01",
   "metadata": {},
   "source": [
    "# Classification\n",
    "\n",
    "For this study, I have chosen to use a Random Forests model. Random Forests make classifications by selecting the most frequent class from an ensemble of decision trees. Given the variety of features in my dataset, I believe this type of model is befitting and would yield accurate results because it would classify a letter based on multiple decisions.\n",
    "\n",
    "## Model\n",
    "### Build and Train\n",
    "\n",
    "We will use the `RandomForestClassifier` class provided by scikit-learn.\n",
    "\n",
    "We specify the number of trees with `n_estimators`. We'll set a reasonable value to begin with and see how the model performs. Next, the number of features to consider is defined by `max_features`. Setting this to `None` uses the number of features available (i.e. 16). Finally, we control the randomness with `random_state`, allowing us to produce consistent results. We'll simply resuse the `r_state` value set earlier.\n",
    "\n",
    "After the instance is created, we'll train our model by fitting the **X_train** and **Y_train** sets created earlier."
   ]
  },
  {
   "cell_type": "code",
   "execution_count": 14,
   "id": "7f5d0822",
   "metadata": {},
   "outputs": [
    {
     "data": {
      "text/plain": [
       "RandomForestClassifier(max_features=None, n_estimators=150, random_state=20)"
      ]
     },
     "execution_count": 14,
     "metadata": {},
     "output_type": "execute_result"
    }
   ],
   "source": [
    "model = RandomForestClassifier(n_estimators=150, max_features=None, random_state=r_state)\n",
    "model.fit(X_train, Y_train)"
   ]
  },
  {
   "cell_type": "markdown",
   "id": "8ba46861",
   "metadata": {},
   "source": [
    "### Make Predictions\n",
    "Once trained, we can use the model to make predictions. The following code shows our model making class predictions on the **X_test** set. It also predicts the class probabilities for the same set."
   ]
  },
  {
   "cell_type": "code",
   "execution_count": 15,
   "id": "270493a0",
   "metadata": {},
   "outputs": [],
   "source": [
    "# Predictions & Probabilities\n",
    "prediction = model.predict(X_test)\n",
    "probability = model.predict_proba(X_test)"
   ]
  },
  {
   "cell_type": "code",
   "execution_count": 16,
   "id": "c923eb71",
   "metadata": {},
   "outputs": [
    {
     "name": "stdout",
     "output_type": "stream",
     "text": [
      "Probabilities for 1st instance:\n"
     ]
    },
    {
     "data": {
      "text/plain": [
       "array([[0.        , 0.        , 0.01333333, 0.        , 0.        ,\n",
       "        0.        , 0.00666667, 0.        , 0.        , 0.        ,\n",
       "        0.        , 0.        , 0.        , 0.        , 0.96      ,\n",
       "        0.00666667, 0.        , 0.        , 0.        , 0.        ,\n",
       "        0.01333333, 0.        , 0.        , 0.        , 0.        ,\n",
       "        0.        ]])"
      ]
     },
     "execution_count": 16,
     "metadata": {},
     "output_type": "execute_result"
    }
   ],
   "source": [
    "print(f'Probabilities for 1st instance:')\n",
    "probability[:1]"
   ]
  },
  {
   "cell_type": "markdown",
   "id": "4e7971b4",
   "metadata": {},
   "source": [
    "## Model Evaluation\n",
    "The `sklearn.metrics` module provides functions to evaluate our model's quality of performance, such as calculating metrics and printing reports. Reviewing these will inform us if there is any fine tuning to be done to the model."
   ]
  },
  {
   "cell_type": "markdown",
   "id": "e15d53d6",
   "metadata": {},
   "source": [
    "### Accuracy\n",
    "We can use accuracy_score to calculate the accuracy of the model's results:"
   ]
  },
  {
   "cell_type": "code",
   "execution_count": 17,
   "id": "e0c22d8c",
   "metadata": {},
   "outputs": [
    {
     "name": "stdout",
     "output_type": "stream",
     "text": [
      "End result accuracy score is: 93.42%\n"
     ]
    }
   ],
   "source": [
    "model_accuracy = accuracy_score(Y_test, prediction)\n",
    "print(f'End result accuracy score is: {np.round(model_accuracy * 100, 2)}%')"
   ]
  },
  {
   "cell_type": "markdown",
   "id": "6cf6463d",
   "metadata": {},
   "source": [
    "As shown, the model, with its current settings, performs with more than 93% accuracy. This could be due to the number of estimators (decision trees) we set, or it could be the number of rows given to train the model."
   ]
  },
  {
   "cell_type": "markdown",
   "id": "0f87aeb7",
   "metadata": {},
   "source": [
    "### Classification Report\n",
    "We can build a classification report to see exactly how the model performed for each letter. This report displays the precision, recall and f1-score for each class label.\n",
    "\n",
    "Note the indices of 0–25 are the encoded labels for A–Z."
   ]
  },
  {
   "cell_type": "code",
   "execution_count": 18,
   "id": "1d100060",
   "metadata": {},
   "outputs": [
    {
     "data": {
      "text/html": [
       "<div>\n",
       "<style scoped>\n",
       "    .dataframe tbody tr th:only-of-type {\n",
       "        vertical-align: middle;\n",
       "    }\n",
       "\n",
       "    .dataframe tbody tr th {\n",
       "        vertical-align: top;\n",
       "    }\n",
       "\n",
       "    .dataframe thead th {\n",
       "        text-align: right;\n",
       "    }\n",
       "</style>\n",
       "<table border=\"1\" class=\"dataframe\">\n",
       "  <thead>\n",
       "    <tr style=\"text-align: right;\">\n",
       "      <th></th>\n",
       "      <th>precision</th>\n",
       "      <th>recall</th>\n",
       "      <th>f1-score</th>\n",
       "      <th>support</th>\n",
       "    </tr>\n",
       "  </thead>\n",
       "  <tbody>\n",
       "    <tr>\n",
       "      <th>0</th>\n",
       "      <td>0.974522</td>\n",
       "      <td>0.980769</td>\n",
       "      <td>0.977636</td>\n",
       "      <td>156.00000</td>\n",
       "    </tr>\n",
       "    <tr>\n",
       "      <th>1</th>\n",
       "      <td>0.894737</td>\n",
       "      <td>0.925170</td>\n",
       "      <td>0.909699</td>\n",
       "      <td>147.00000</td>\n",
       "    </tr>\n",
       "    <tr>\n",
       "      <th>2</th>\n",
       "      <td>0.948387</td>\n",
       "      <td>0.924528</td>\n",
       "      <td>0.936306</td>\n",
       "      <td>159.00000</td>\n",
       "    </tr>\n",
       "    <tr>\n",
       "      <th>3</th>\n",
       "      <td>0.894040</td>\n",
       "      <td>0.906040</td>\n",
       "      <td>0.900000</td>\n",
       "      <td>149.00000</td>\n",
       "    </tr>\n",
       "    <tr>\n",
       "      <th>4</th>\n",
       "      <td>0.928994</td>\n",
       "      <td>0.912791</td>\n",
       "      <td>0.920821</td>\n",
       "      <td>172.00000</td>\n",
       "    </tr>\n",
       "    <tr>\n",
       "      <th>5</th>\n",
       "      <td>0.906667</td>\n",
       "      <td>0.918919</td>\n",
       "      <td>0.912752</td>\n",
       "      <td>148.00000</td>\n",
       "    </tr>\n",
       "    <tr>\n",
       "      <th>6</th>\n",
       "      <td>0.955556</td>\n",
       "      <td>0.889655</td>\n",
       "      <td>0.921429</td>\n",
       "      <td>145.00000</td>\n",
       "    </tr>\n",
       "    <tr>\n",
       "      <th>7</th>\n",
       "      <td>0.856250</td>\n",
       "      <td>0.895425</td>\n",
       "      <td>0.875399</td>\n",
       "      <td>153.00000</td>\n",
       "    </tr>\n",
       "    <tr>\n",
       "      <th>8</th>\n",
       "      <td>0.952756</td>\n",
       "      <td>0.960317</td>\n",
       "      <td>0.956522</td>\n",
       "      <td>126.00000</td>\n",
       "    </tr>\n",
       "    <tr>\n",
       "      <th>9</th>\n",
       "      <td>0.965035</td>\n",
       "      <td>0.896104</td>\n",
       "      <td>0.929293</td>\n",
       "      <td>154.00000</td>\n",
       "    </tr>\n",
       "    <tr>\n",
       "      <th>10</th>\n",
       "      <td>0.937008</td>\n",
       "      <td>0.908397</td>\n",
       "      <td>0.922481</td>\n",
       "      <td>131.00000</td>\n",
       "    </tr>\n",
       "    <tr>\n",
       "      <th>11</th>\n",
       "      <td>0.944444</td>\n",
       "      <td>0.944444</td>\n",
       "      <td>0.944444</td>\n",
       "      <td>144.00000</td>\n",
       "    </tr>\n",
       "    <tr>\n",
       "      <th>12</th>\n",
       "      <td>0.958904</td>\n",
       "      <td>0.945946</td>\n",
       "      <td>0.952381</td>\n",
       "      <td>148.00000</td>\n",
       "    </tr>\n",
       "    <tr>\n",
       "      <th>13</th>\n",
       "      <td>0.952663</td>\n",
       "      <td>0.952663</td>\n",
       "      <td>0.952663</td>\n",
       "      <td>169.00000</td>\n",
       "    </tr>\n",
       "    <tr>\n",
       "      <th>14</th>\n",
       "      <td>0.893750</td>\n",
       "      <td>0.922581</td>\n",
       "      <td>0.907937</td>\n",
       "      <td>155.00000</td>\n",
       "    </tr>\n",
       "    <tr>\n",
       "      <th>15</th>\n",
       "      <td>0.929348</td>\n",
       "      <td>0.939560</td>\n",
       "      <td>0.934426</td>\n",
       "      <td>182.00000</td>\n",
       "    </tr>\n",
       "    <tr>\n",
       "      <th>16</th>\n",
       "      <td>0.951807</td>\n",
       "      <td>0.913295</td>\n",
       "      <td>0.932153</td>\n",
       "      <td>173.00000</td>\n",
       "    </tr>\n",
       "    <tr>\n",
       "      <th>17</th>\n",
       "      <td>0.901316</td>\n",
       "      <td>0.938356</td>\n",
       "      <td>0.919463</td>\n",
       "      <td>146.00000</td>\n",
       "    </tr>\n",
       "    <tr>\n",
       "      <th>18</th>\n",
       "      <td>0.926380</td>\n",
       "      <td>0.949686</td>\n",
       "      <td>0.937888</td>\n",
       "      <td>159.00000</td>\n",
       "    </tr>\n",
       "    <tr>\n",
       "      <th>19</th>\n",
       "      <td>0.922078</td>\n",
       "      <td>0.959459</td>\n",
       "      <td>0.940397</td>\n",
       "      <td>148.00000</td>\n",
       "    </tr>\n",
       "    <tr>\n",
       "      <th>20</th>\n",
       "      <td>0.957055</td>\n",
       "      <td>0.945455</td>\n",
       "      <td>0.951220</td>\n",
       "      <td>165.00000</td>\n",
       "    </tr>\n",
       "    <tr>\n",
       "      <th>21</th>\n",
       "      <td>0.940397</td>\n",
       "      <td>0.940397</td>\n",
       "      <td>0.940397</td>\n",
       "      <td>151.00000</td>\n",
       "    </tr>\n",
       "    <tr>\n",
       "      <th>22</th>\n",
       "      <td>0.972028</td>\n",
       "      <td>0.965278</td>\n",
       "      <td>0.968641</td>\n",
       "      <td>144.00000</td>\n",
       "    </tr>\n",
       "    <tr>\n",
       "      <th>23</th>\n",
       "      <td>0.946429</td>\n",
       "      <td>0.935294</td>\n",
       "      <td>0.940828</td>\n",
       "      <td>170.00000</td>\n",
       "    </tr>\n",
       "    <tr>\n",
       "      <th>24</th>\n",
       "      <td>0.935897</td>\n",
       "      <td>0.966887</td>\n",
       "      <td>0.951140</td>\n",
       "      <td>151.00000</td>\n",
       "    </tr>\n",
       "    <tr>\n",
       "      <th>25</th>\n",
       "      <td>0.954839</td>\n",
       "      <td>0.954839</td>\n",
       "      <td>0.954839</td>\n",
       "      <td>155.00000</td>\n",
       "    </tr>\n",
       "    <tr>\n",
       "      <th>accuracy</th>\n",
       "      <td>0.934250</td>\n",
       "      <td>0.934250</td>\n",
       "      <td>0.934250</td>\n",
       "      <td>0.93425</td>\n",
       "    </tr>\n",
       "    <tr>\n",
       "      <th>macro avg</th>\n",
       "      <td>0.934665</td>\n",
       "      <td>0.934318</td>\n",
       "      <td>0.934275</td>\n",
       "      <td>4000.00000</td>\n",
       "    </tr>\n",
       "    <tr>\n",
       "      <th>weighted avg</th>\n",
       "      <td>0.934803</td>\n",
       "      <td>0.934250</td>\n",
       "      <td>0.934313</td>\n",
       "      <td>4000.00000</td>\n",
       "    </tr>\n",
       "  </tbody>\n",
       "</table>\n",
       "</div>"
      ],
      "text/plain": [
       "              precision    recall  f1-score     support\n",
       "0              0.974522  0.980769  0.977636   156.00000\n",
       "1              0.894737  0.925170  0.909699   147.00000\n",
       "2              0.948387  0.924528  0.936306   159.00000\n",
       "3              0.894040  0.906040  0.900000   149.00000\n",
       "4              0.928994  0.912791  0.920821   172.00000\n",
       "5              0.906667  0.918919  0.912752   148.00000\n",
       "6              0.955556  0.889655  0.921429   145.00000\n",
       "7              0.856250  0.895425  0.875399   153.00000\n",
       "8              0.952756  0.960317  0.956522   126.00000\n",
       "9              0.965035  0.896104  0.929293   154.00000\n",
       "10             0.937008  0.908397  0.922481   131.00000\n",
       "11             0.944444  0.944444  0.944444   144.00000\n",
       "12             0.958904  0.945946  0.952381   148.00000\n",
       "13             0.952663  0.952663  0.952663   169.00000\n",
       "14             0.893750  0.922581  0.907937   155.00000\n",
       "15             0.929348  0.939560  0.934426   182.00000\n",
       "16             0.951807  0.913295  0.932153   173.00000\n",
       "17             0.901316  0.938356  0.919463   146.00000\n",
       "18             0.926380  0.949686  0.937888   159.00000\n",
       "19             0.922078  0.959459  0.940397   148.00000\n",
       "20             0.957055  0.945455  0.951220   165.00000\n",
       "21             0.940397  0.940397  0.940397   151.00000\n",
       "22             0.972028  0.965278  0.968641   144.00000\n",
       "23             0.946429  0.935294  0.940828   170.00000\n",
       "24             0.935897  0.966887  0.951140   151.00000\n",
       "25             0.954839  0.954839  0.954839   155.00000\n",
       "accuracy       0.934250  0.934250  0.934250     0.93425\n",
       "macro avg      0.934665  0.934318  0.934275  4000.00000\n",
       "weighted avg   0.934803  0.934250  0.934313  4000.00000"
      ]
     },
     "execution_count": 18,
     "metadata": {},
     "output_type": "execute_result"
    }
   ],
   "source": [
    "# Create Report & Wrap with DataFrame\n",
    "report_dict = classification_report(Y_test, prediction, output_dict=True)\n",
    "report = pd.DataFrame(report_dict).transpose()\n",
    "\n",
    "# Output report\n",
    "report"
   ]
  },
  {
   "cell_type": "markdown",
   "id": "ac3b2714",
   "metadata": {},
   "source": [
    "This shows all classes with an f1-score of 90% or above. This tells us the model did not favour any classes in particular and made balanced predictions. If we recall the data exploration, this was expected due the balanced distribution.\n",
    "\n",
    "However, some classes had a **precision** of less than 90%. We can display those classes:"
   ]
  },
  {
   "cell_type": "code",
   "execution_count": 19,
   "id": "3d67606d",
   "metadata": {
    "scrolled": false
   },
   "outputs": [
    {
     "name": "stdout",
     "output_type": "stream",
     "text": [
      "Labels (order of appearance):  ['B', 'D', 'H', 'O']\n"
     ]
    },
    {
     "data": {
      "text/html": [
       "<div>\n",
       "<style scoped>\n",
       "    .dataframe tbody tr th:only-of-type {\n",
       "        vertical-align: middle;\n",
       "    }\n",
       "\n",
       "    .dataframe tbody tr th {\n",
       "        vertical-align: top;\n",
       "    }\n",
       "\n",
       "    .dataframe thead th {\n",
       "        text-align: right;\n",
       "    }\n",
       "</style>\n",
       "<table border=\"1\" class=\"dataframe\">\n",
       "  <thead>\n",
       "    <tr style=\"text-align: right;\">\n",
       "      <th></th>\n",
       "      <th>precision</th>\n",
       "      <th>recall</th>\n",
       "      <th>f1-score</th>\n",
       "      <th>support</th>\n",
       "    </tr>\n",
       "  </thead>\n",
       "  <tbody>\n",
       "    <tr>\n",
       "      <th>1</th>\n",
       "      <td>0.894737</td>\n",
       "      <td>0.925170</td>\n",
       "      <td>0.909699</td>\n",
       "      <td>147.0</td>\n",
       "    </tr>\n",
       "    <tr>\n",
       "      <th>3</th>\n",
       "      <td>0.894040</td>\n",
       "      <td>0.906040</td>\n",
       "      <td>0.900000</td>\n",
       "      <td>149.0</td>\n",
       "    </tr>\n",
       "    <tr>\n",
       "      <th>7</th>\n",
       "      <td>0.856250</td>\n",
       "      <td>0.895425</td>\n",
       "      <td>0.875399</td>\n",
       "      <td>153.0</td>\n",
       "    </tr>\n",
       "    <tr>\n",
       "      <th>14</th>\n",
       "      <td>0.893750</td>\n",
       "      <td>0.922581</td>\n",
       "      <td>0.907937</td>\n",
       "      <td>155.0</td>\n",
       "    </tr>\n",
       "  </tbody>\n",
       "</table>\n",
       "</div>"
      ],
      "text/plain": [
       "    precision    recall  f1-score  support\n",
       "1    0.894737  0.925170  0.909699    147.0\n",
       "3    0.894040  0.906040  0.900000    149.0\n",
       "7    0.856250  0.895425  0.875399    153.0\n",
       "14   0.893750  0.922581  0.907937    155.0"
      ]
     },
     "execution_count": 19,
     "metadata": {},
     "output_type": "execute_result"
    }
   ],
   "source": [
    "# Decode indices back to letters\n",
    "def decode(n):\n",
    "    return chr(int(n)+65)\n",
    "\n",
    "def decode_values(values):\n",
    "    return [decode(n) for n in values]\n",
    "\n",
    "# Grab precision < 90%\n",
    "less_than_90 = report[report['precision'] < 0.9]\n",
    "\n",
    "# Output\n",
    "print(f'Labels (order of appearance):  {decode_values(list(less_than_90.index.values))}')\n",
    "less_than_90"
   ]
  },
  {
   "cell_type": "markdown",
   "id": "5e85fa05",
   "metadata": {},
   "source": [
    "Above shows the values for the letters B, D, H and O. The lowest value was H with 0.85."
   ]
  },
  {
   "cell_type": "markdown",
   "id": "904bb4b4",
   "metadata": {},
   "source": [
    "### Misclassifications\n",
    "We can also manually check which instances the model failed to make a correct classification on:"
   ]
  },
  {
   "cell_type": "code",
   "execution_count": 20,
   "id": "69da712f",
   "metadata": {},
   "outputs": [
    {
     "name": "stdout",
     "output_type": "stream",
     "text": [
      "Misclassified **263** instances (1.31% error)\n"
     ]
    },
    {
     "data": {
      "text/html": [
       "<div>\n",
       "<style scoped>\n",
       "    .dataframe tbody tr th:only-of-type {\n",
       "        vertical-align: middle;\n",
       "    }\n",
       "\n",
       "    .dataframe tbody tr th {\n",
       "        vertical-align: top;\n",
       "    }\n",
       "\n",
       "    .dataframe thead th {\n",
       "        text-align: right;\n",
       "    }\n",
       "</style>\n",
       "<table border=\"1\" class=\"dataframe\">\n",
       "  <thead>\n",
       "    <tr style=\"text-align: right;\">\n",
       "      <th></th>\n",
       "      <th>predicted</th>\n",
       "      <th>actual</th>\n",
       "    </tr>\n",
       "  </thead>\n",
       "  <tbody>\n",
       "    <tr>\n",
       "      <th>23</th>\n",
       "      <td>12</td>\n",
       "      <td>20</td>\n",
       "    </tr>\n",
       "    <tr>\n",
       "      <th>58</th>\n",
       "      <td>20</td>\n",
       "      <td>9</td>\n",
       "    </tr>\n",
       "    <tr>\n",
       "      <th>82</th>\n",
       "      <td>17</td>\n",
       "      <td>10</td>\n",
       "    </tr>\n",
       "    <tr>\n",
       "      <th>91</th>\n",
       "      <td>3</td>\n",
       "      <td>10</td>\n",
       "    </tr>\n",
       "    <tr>\n",
       "      <th>103</th>\n",
       "      <td>7</td>\n",
       "      <td>23</td>\n",
       "    </tr>\n",
       "  </tbody>\n",
       "</table>\n",
       "</div>"
      ],
      "text/plain": [
       "     predicted  actual\n",
       "23          12      20\n",
       "58          20       9\n",
       "82          17      10\n",
       "91           3      10\n",
       "103          7      23"
      ]
     },
     "execution_count": 20,
     "metadata": {},
     "output_type": "execute_result"
    }
   ],
   "source": [
    "results = pd.DataFrame({ 'predicted': prediction, 'actual': Y_test })\n",
    "# results['probability'] = probability\n",
    "incorrect = results[results.predicted != results.actual]\n",
    "\n",
    "print(f'Misclassified **{incorrect.shape[0]}** instances ({round(incorrect.shape[0]/df.shape[0] * 100, 2)}% error)')\n",
    "incorrect.head()"
   ]
  },
  {
   "cell_type": "markdown",
   "id": "aa6b33c8",
   "metadata": {},
   "source": [
    "Furthermore, we can list the most frequent miscounts:"
   ]
  },
  {
   "cell_type": "code",
   "execution_count": 21,
   "id": "888e097c",
   "metadata": {},
   "outputs": [
    {
     "name": "stdout",
     "output_type": "stream",
     "text": [
      "`O` was mistaken for `Q` 6 times\n",
      "`H` was mistaken for `D` 6 times\n",
      "`H` was mistaken for `K` 5 times\n",
      "`F` was mistaken for `P` 5 times\n",
      "`R` was mistaken for `H` 5 times\n",
      "`P` was mistaken for `F` 5 times\n",
      "`D` was mistaken for `H` 4 times\n",
      "`C` was mistaken for `G` 4 times\n",
      "`V` was mistaken for `B` 4 times\n",
      "`T` was mistaken for `Y` 3 times\n"
     ]
    }
   ],
   "source": [
    "# Count incorrect instances\n",
    "miscounts = pd.DataFrame(incorrect.groupby(['predicted', 'actual']).size()).reset_index()\n",
    "\n",
    "# Rename columns, sort df and slice top 10 rows\n",
    "miscounts.columns = ['predicted', 'actual', 'count']\n",
    "miscounts = miscounts.sort_values('count', ascending=False)[:10]\n",
    "\n",
    "# Decode each letter and show count\n",
    "for index, row in miscounts.iterrows():\n",
    "    print(f'`{decode(row[0])}` was mistaken for `{decode(row[1])}` {row[2]} times')"
   ]
  },
  {
   "cell_type": "markdown",
   "id": "fe4d2ca1",
   "metadata": {},
   "source": [
    "The above shows the model frequently mistakes `O` with `Q` which is understandable because they are very similar in shape. Other examples of similar shapes include:\n",
    "- `P` with `F`\n",
    "- `F` with `P`\n",
    "- `C` with `G`\n",
    "- `T` with `Y`\n",
    "\n",
    "Naturally, across these instances, there are some pairs, where the model mistakes a letter for another specific letter and vice versa, as is the case with `H` and `D` as well as `P` and `F`."
   ]
  },
  {
   "cell_type": "markdown",
   "id": "68c3198c",
   "metadata": {},
   "source": [
    "### Importance\n",
    "To get more insight into the model's decision-making, we can calculate the importance of each feature:"
   ]
  },
  {
   "cell_type": "code",
   "execution_count": 22,
   "id": "378800ef",
   "metadata": {},
   "outputs": [
    {
     "data": {
      "text/html": [
       "<div>\n",
       "<style scoped>\n",
       "    .dataframe tbody tr th:only-of-type {\n",
       "        vertical-align: middle;\n",
       "    }\n",
       "\n",
       "    .dataframe tbody tr th {\n",
       "        vertical-align: top;\n",
       "    }\n",
       "\n",
       "    .dataframe thead th {\n",
       "        text-align: right;\n",
       "    }\n",
       "</style>\n",
       "<table border=\"1\" class=\"dataframe\">\n",
       "  <thead>\n",
       "    <tr style=\"text-align: right;\">\n",
       "      <th></th>\n",
       "      <th>feature</th>\n",
       "      <th>importance</th>\n",
       "    </tr>\n",
       "  </thead>\n",
       "  <tbody>\n",
       "    <tr>\n",
       "      <th>12</th>\n",
       "      <td>x-ege</td>\n",
       "      <td>0.136424</td>\n",
       "    </tr>\n",
       "    <tr>\n",
       "      <th>14</th>\n",
       "      <td>y-ege</td>\n",
       "      <td>0.112096</td>\n",
       "    </tr>\n",
       "    <tr>\n",
       "      <th>8</th>\n",
       "      <td>y2bar</td>\n",
       "      <td>0.109859</td>\n",
       "    </tr>\n",
       "    <tr>\n",
       "      <th>13</th>\n",
       "      <td>xegvy</td>\n",
       "      <td>0.097744</td>\n",
       "    </tr>\n",
       "    <tr>\n",
       "      <th>11</th>\n",
       "      <td>xy2br</td>\n",
       "      <td>0.086163</td>\n",
       "    </tr>\n",
       "    <tr>\n",
       "      <th>10</th>\n",
       "      <td>x2ybr</td>\n",
       "      <td>0.080300</td>\n",
       "    </tr>\n",
       "    <tr>\n",
       "      <th>9</th>\n",
       "      <td>xybar</td>\n",
       "      <td>0.071428</td>\n",
       "    </tr>\n",
       "    <tr>\n",
       "      <th>7</th>\n",
       "      <td>x2bar</td>\n",
       "      <td>0.069406</td>\n",
       "    </tr>\n",
       "    <tr>\n",
       "      <th>6</th>\n",
       "      <td>y-bar</td>\n",
       "      <td>0.058311</td>\n",
       "    </tr>\n",
       "    <tr>\n",
       "      <th>15</th>\n",
       "      <td>yegvx</td>\n",
       "      <td>0.056154</td>\n",
       "    </tr>\n",
       "    <tr>\n",
       "      <th>5</th>\n",
       "      <td>x-bar</td>\n",
       "      <td>0.046812</td>\n",
       "    </tr>\n",
       "    <tr>\n",
       "      <th>4</th>\n",
       "      <td>onpix</td>\n",
       "      <td>0.018814</td>\n",
       "    </tr>\n",
       "    <tr>\n",
       "      <th>1</th>\n",
       "      <td>y-box</td>\n",
       "      <td>0.017795</td>\n",
       "    </tr>\n",
       "    <tr>\n",
       "      <th>3</th>\n",
       "      <td>high</td>\n",
       "      <td>0.014931</td>\n",
       "    </tr>\n",
       "    <tr>\n",
       "      <th>0</th>\n",
       "      <td>x-box</td>\n",
       "      <td>0.013475</td>\n",
       "    </tr>\n",
       "    <tr>\n",
       "      <th>2</th>\n",
       "      <td>width</td>\n",
       "      <td>0.010290</td>\n",
       "    </tr>\n",
       "  </tbody>\n",
       "</table>\n",
       "</div>"
      ],
      "text/plain": [
       "   feature  importance\n",
       "12   x-ege    0.136424\n",
       "14   y-ege    0.112096\n",
       "8    y2bar    0.109859\n",
       "13   xegvy    0.097744\n",
       "11   xy2br    0.086163\n",
       "10   x2ybr    0.080300\n",
       "9    xybar    0.071428\n",
       "7    x2bar    0.069406\n",
       "6    y-bar    0.058311\n",
       "15   yegvx    0.056154\n",
       "5    x-bar    0.046812\n",
       "4    onpix    0.018814\n",
       "1    y-box    0.017795\n",
       "3     high    0.014931\n",
       "0    x-box    0.013475\n",
       "2    width    0.010290"
      ]
     },
     "execution_count": 22,
     "metadata": {},
     "output_type": "execute_result"
    }
   ],
   "source": [
    "feature_importances = []\n",
    "features = list(df.columns)[1:] # drop the first value since label is unimportant\n",
    "\n",
    "for feature, score in zip(features, model.feature_importances_):\n",
    "    feature_importances.append({ 'feature': feature, 'importance': score })\n",
    "\n",
    "# Sort by importance\n",
    "pd.DataFrame(feature_importances).sort_values('importance', ascending=False)"
   ]
  },
  {
   "cell_type": "markdown",
   "id": "4a719d45",
   "metadata": {},
   "source": [
    "The table shows that among the least important values are width, height. This is interesting because in most fonts some letters are wider than others - compare W with I - with the obvious exception being monospaced fonts. This perhaps gives some insight into how the distortions affected the letters.\n",
    "\n",
    "On the other hand, the two most important features are x-ege and y-ege, which are the horizontal and vertical mean edge counts respectively. This makes sense because if you compare the letters `E` and `L`, `E` has a higher vertical edge count than `L`. Likewise compare `I` with `W` for horizontal edge count."
   ]
  },
  {
   "cell_type": "markdown",
   "id": "65623514",
   "metadata": {},
   "source": [
    "# Solution Comparison\n",
    "Our model achieved a very high accuracy result but it would be interesting to see how other models would compare. In this section, we will experiment with a variety of models to see how different input parameters affect the performance of the model.\n",
    "\n",
    "Note the same `random_state` value will be used across all experiments to maintain consistency."
   ]
  },
  {
   "cell_type": "markdown",
   "id": "164669a8",
   "metadata": {},
   "source": [
    "## Parameter Tweaking\n",
    "In this experiment, we will observe the effects of tweaking some parameters of the random forest function. The main parameters are `n_estimators`, `max_features` and `random_state`, although the `random_state` will be constant to ensure reproducibility.\n",
    "\n",
    "Several tests will be run:\n",
    "1. Use 50 trees instead of 150\n",
    "2. Use 4 features (quarter features)\n",
    "3. Use 300 trees instead of 150\n",
    "3. Use 8 features (half of features)\n",
    "\n",
    "The following code will run these three tests consecutively, storing each resulting accuracy in a list to be evalutated afterwards:"
   ]
  },
  {
   "cell_type": "code",
   "execution_count": 23,
   "id": "5e745a95",
   "metadata": {},
   "outputs": [],
   "source": [
    "r_state = 20\n",
    "\n",
    "def print_results(lst):\n",
    "    for result in lst:\n",
    "        print(f\"{result['name']} \\t {round(result['accuracy']*100, 2)}% \")"
   ]
  },
  {
   "cell_type": "code",
   "execution_count": 24,
   "id": "a8e56d07",
   "metadata": {},
   "outputs": [
    {
     "name": "stdout",
     "output_type": "stream",
     "text": [
      "Original Test \t 93.42% \n",
      "Test 1 \t 93.72% \n",
      "Test 2 \t 96.68% \n",
      "Test 3 \t 93.52% \n",
      "Test 4 \t 96.3% \n"
     ]
    }
   ],
   "source": [
    "# Contain within function to avoid affecting previous results\n",
    "def experiment_parameter_tweaking():\n",
    "    results = [\n",
    "        { 'name': 'Original Test', 'accuracy': model_accuracy }\n",
    "    ]\n",
    "\n",
    "    tests = [\n",
    "        RandomForestClassifier(n_estimators=50,  max_features=None, random_state=r_state),\n",
    "        RandomForestClassifier(n_estimators=150, max_features=4,    random_state=r_state),\n",
    "        RandomForestClassifier(n_estimators=300, max_features=None, random_state=r_state),\n",
    "        RandomForestClassifier(n_estimators=150, max_features=8,    random_state=r_state),\n",
    "    ]\n",
    "\n",
    "    # Split sets & normalise\n",
    "    X_train, X_test, Y_train, Y_test = tts(X, Y, train_size=.8, random_state=r_state)\n",
    "    X_train = X_train / 15.0 ; X_test = X_test / 15.0\n",
    "\n",
    "    # Run tests\n",
    "    index = 1\n",
    "    for test in tests:\n",
    "        # Fit model\n",
    "        test.fit(X_train, Y_train)\n",
    "\n",
    "        # Prediction\n",
    "        yhat = test.predict(X_test)\n",
    "        acc  = accuracy_score(Y_test, yhat)\n",
    "\n",
    "        # Store prediction\n",
    "        results.append({ 'name': f'Test {index}', 'accuracy': acc })\n",
    "        index += 1\n",
    "\n",
    "    # Print\n",
    "    print_results(results)\n",
    "\n",
    "experiment_parameter_tweaking()"
   ]
  },
  {
   "cell_type": "markdown",
   "id": "a8c4b853",
   "metadata": {},
   "source": [
    "All tests achieved a higher accuracy than the original model. The two best results are from test 2 and 4, where the primary change was the `max_feature`. Test 2 set a value of 4 which yielded the best result, showing that less features squeezes a little more performance out.\n",
    "\n",
    "Tests 1 and 3 changed the `n_estimators` and, interestingly, setting a lower value yielded a better result. This suggests that having more estimators makes the model slightly more prone to misclassifications."
   ]
  },
  {
   "cell_type": "markdown",
   "id": "50739ca6",
   "metadata": {},
   "source": [
    "## Partitioning\n",
    "For the initial model, the train_test_split method used a value of 0.8 for the `train_size` parameter. This means there was a 80/20 divide on training and testing sets. For this experiment, a range of values from 0.5 to 0.7 will be testsed - i.e. 50–70%. The original settings are the same (estimators and max features)."
   ]
  },
  {
   "cell_type": "code",
   "execution_count": 25,
   "id": "c7df17fb",
   "metadata": {},
   "outputs": [
    {
     "name": "stdout",
     "output_type": "stream",
     "text": [
      "Original Test \t 93.42% \n",
      "Partition test \t 93.63% \n",
      "Partition test \t 93.48% \n",
      "Partition test \t 92.48% \n"
     ]
    }
   ],
   "source": [
    "def experiment_partitioning(X, Y):\n",
    "    results = [\n",
    "        { 'name': 'Original Test', 'accuracy': model_accuracy }\n",
    "    ]\n",
    "\n",
    "    exp_model = RandomForestClassifier(n_estimators=150, max_features=None, random_state=r_state)\n",
    "\n",
    "    sizes = [0.7, 0.6, 0.5]\n",
    "\n",
    "    for size in sizes:\n",
    "        # Split sets & normalise\n",
    "        X_train, X_test, Y_train, Y_test = tts(X, Y, train_size=size, random_state=r_state)\n",
    "        X_train = X_train / 15.0 ; X_test = X_test / 15.0\n",
    "\n",
    "        # Fit model\n",
    "        exp_model.fit(X_train, Y_train)\n",
    "\n",
    "        # Make prediction\n",
    "        yhat = exp_model.predict(X_test)\n",
    "        acc = accuracy_score(Y_test, yhat)\n",
    "        results.append({ 'name': 'Partition test', 'accuracy': acc })\n",
    "\n",
    "    # Print\n",
    "    print_results(results)\n",
    "\n",
    "experiment_partitioning(X, Y)"
   ]
  },
  {
   "cell_type": "markdown",
   "id": "0de5a173",
   "metadata": {},
   "source": [
    "As expected, the 50/50 split has the lowest accuracy with 92.48%. However, interestingly, the 60/40 and 70/30 divisions have a greater accuracy than the 80/20. We would have expected them to be lower, since 80/20 receives more training. This could be because the extra instances used in training are noisier, slightly hurting the model's performance (in the case of 80/20)."
   ]
  },
  {
   "cell_type": "markdown",
   "id": "127c8da6",
   "metadata": {},
   "source": [
    "## Cross Validation\n",
    "Cross validation will allow us to further evaluate how a model performs on this dataset.\n",
    "\n",
    "A random forest model with default parameters (besides `random_state`) will be used in a 10-fold cross validation."
   ]
  },
  {
   "cell_type": "code",
   "execution_count": 26,
   "id": "c4c351a7",
   "metadata": {
    "scrolled": true
   },
   "outputs": [
    {
     "name": "stdout",
     "output_type": "stream",
     "text": [
      "Cross validation accuracy: 96.63%\n"
     ]
    }
   ],
   "source": [
    "def cross_val():\n",
    "    # Model and KFold model\n",
    "    exp_model = RandomForestClassifier(random_state=r_state)\n",
    "    cv = RepeatedStratifiedKFold(n_splits=10, n_repeats=3, random_state=r_state)\n",
    "    \n",
    "    # Calculate scores\n",
    "    scores = cross_val_score(exp_model, X, Y, cv=cv, scoring='accuracy')\n",
    "    return np.mean(scores)\n",
    "\n",
    "scores = cross_val()\n",
    "print(f'Cross validation accuracy: {round(scores*100,2)}%')"
   ]
  },
  {
   "cell_type": "markdown",
   "id": "b34979a2",
   "metadata": {},
   "source": [
    "# Conclusion\n",
    "The models in all tests consistently produce high results of +93% accuracy and by varying some factors the model achieved close to 97%. This clearly shows how well the models learn the dataset. The cross validation also suggests that any new data (such as new characters of other alphabets) would be learned accurately as well."
   ]
  },
  {
   "cell_type": "code",
   "execution_count": null,
   "id": "30f4a43a",
   "metadata": {},
   "outputs": [],
   "source": []
  }
 ],
 "metadata": {
  "authors": [
   {
    "name": "David Graham (1911734)"
   }
  ],
  "kernelspec": {
   "display_name": "Python 3",
   "language": "python",
   "name": "python3"
  },
  "language_info": {
   "codemirror_mode": {
    "name": "ipython",
    "version": 3
   },
   "file_extension": ".py",
   "mimetype": "text/x-python",
   "name": "python",
   "nbconvert_exporter": "python",
   "pygments_lexer": "ipython3",
   "version": "3.8.8"
  }
 },
 "nbformat": 4,
 "nbformat_minor": 5
}
